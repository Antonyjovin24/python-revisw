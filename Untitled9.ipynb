{
  "nbformat": 4,
  "nbformat_minor": 0,
  "metadata": {
    "colab": {
      "provenance": [],
      "authorship_tag": "ABX9TyMVhPkPu7pqolGQB5mZ1Sor",
      "include_colab_link": true
    },
    "kernelspec": {
      "name": "python3",
      "display_name": "Python 3"
    },
    "language_info": {
      "name": "python"
    }
  },
  "cells": [
    {
      "cell_type": "markdown",
      "metadata": {
        "id": "view-in-github",
        "colab_type": "text"
      },
      "source": [
        "<a href=\"https://colab.research.google.com/github/Antonyjovin24/python-revisw/blob/main/Untitled9.ipynb\" target=\"_parent\"><img src=\"https://colab.research.google.com/assets/colab-badge.svg\" alt=\"Open In Colab\"/></a>"
      ]
    },
    {
      "cell_type": "code",
      "execution_count": 1,
      "metadata": {
        "colab": {
          "base_uri": "https://localhost:8080/"
        },
        "id": "zzKRvAMEvKmc",
        "outputId": "4f5b6ba5-01d2-4acf-8b92-9704aa1e585c"
      },
      "outputs": [
        {
          "output_type": "stream",
          "name": "stdout",
          "text": [
            "['John', 'Mary', 'David', 'Adam']\n"
          ]
        },
        {
          "output_type": "execute_result",
          "data": {
            "text/plain": [
              "list"
            ]
          },
          "metadata": {},
          "execution_count": 1
        }
      ],
      "source": [
        "x= [\"John\",\"Mary\",\"David\",\"Adam\"]\n",
        "print(x)\n",
        "type(x)"
      ]
    },
    {
      "cell_type": "code",
      "source": [
        "x=[\"Ann Freeda\",\"19\",\"Mala\",\"211980\"]\n",
        "print(x)"
      ],
      "metadata": {
        "colab": {
          "base_uri": "https://localhost:8080/"
        },
        "id": "mDL-CiZMwMQC",
        "outputId": "3614249c-e48a-406b-80a9-7c21bd95e9a0"
      },
      "execution_count": 2,
      "outputs": [
        {
          "output_type": "stream",
          "name": "stdout",
          "text": [
            "['Ann Freeda', '19', 'Mala', '211980']\n"
          ]
        }
      ]
    },
    {
      "cell_type": "code",
      "source": [
        "x[2]"
      ],
      "metadata": {
        "colab": {
          "base_uri": "https://localhost:8080/",
          "height": 35
        },
        "id": "kVBtzarDw-ym",
        "outputId": "b8889b54-d682-4de8-9135-d20ef0f4e087"
      },
      "execution_count": 3,
      "outputs": [
        {
          "output_type": "execute_result",
          "data": {
            "text/plain": [
              "'Mala'"
            ],
            "application/vnd.google.colaboratory.intrinsic+json": {
              "type": "string"
            }
          },
          "metadata": {},
          "execution_count": 3
        }
      ]
    },
    {
      "cell_type": "code",
      "source": [
        "x=[1,12,32,45,56,768,67,8,8,23,45,6,78,90,]\n",
        "print(x)\n",
        "x[0:1]"
      ],
      "metadata": {
        "colab": {
          "base_uri": "https://localhost:8080/"
        },
        "id": "ZhXCDw1hxfE9",
        "outputId": "8707e477-9c28-443f-8aee-2c876e8e4727"
      },
      "execution_count": 4,
      "outputs": [
        {
          "output_type": "stream",
          "name": "stdout",
          "text": [
            "[1, 12, 32, 45, 56, 768, 67, 8, 8, 23, 45, 6, 78, 90]\n"
          ]
        },
        {
          "output_type": "execute_result",
          "data": {
            "text/plain": [
              "[1]"
            ]
          },
          "metadata": {},
          "execution_count": 4
        }
      ]
    },
    {
      "cell_type": "code",
      "source": [
        "x[0]=4\n",
        "print(x)"
      ],
      "metadata": {
        "colab": {
          "base_uri": "https://localhost:8080/"
        },
        "id": "jOv2WpEl1Bt8",
        "outputId": "1ebea745-43e0-4f97-9055-c26556def3b4"
      },
      "execution_count": 5,
      "outputs": [
        {
          "output_type": "stream",
          "name": "stdout",
          "text": [
            "[4, 12, 32, 45, 56, 768, 67, 8, 8, 23, 45, 6, 78, 90]\n"
          ]
        }
      ]
    },
    {
      "cell_type": "code",
      "source": [
        "x=[\"Ann Freeda\",\"19\",\"Mala\",\"211980\"]\n",
        "x[2]=\"Rajagiri\"\n",
        "x"
      ],
      "metadata": {
        "colab": {
          "base_uri": "https://localhost:8080/"
        },
        "id": "5RixZ5Ea19Q9",
        "outputId": "b3a8967d-6438-425a-b0af-6e42164ef80c"
      },
      "execution_count": 6,
      "outputs": [
        {
          "output_type": "execute_result",
          "data": {
            "text/plain": [
              "['Ann Freeda', '19', 'Rajagiri', '211980']"
            ]
          },
          "metadata": {},
          "execution_count": 6
        }
      ]
    },
    {
      "cell_type": "code",
      "source": [
        "x=[3,6,9,12]\n",
        "x.append(69)"
      ],
      "metadata": {
        "id": "cDAn7aCg4hEJ"
      },
      "execution_count": 7,
      "outputs": []
    },
    {
      "cell_type": "code",
      "source": [
        "x"
      ],
      "metadata": {
        "colab": {
          "base_uri": "https://localhost:8080/"
        },
        "id": "O6YSrZN-5K84",
        "outputId": "97295b57-971a-4daf-9fdc-b030052b2dfd"
      },
      "execution_count": 8,
      "outputs": [
        {
          "output_type": "execute_result",
          "data": {
            "text/plain": [
              "[3, 6, 9, 12, 69]"
            ]
          },
          "metadata": {},
          "execution_count": 8
        }
      ]
    },
    {
      "cell_type": "code",
      "source": [
        "\n",
        "y=1\n",
        "while (y<=4):\n",
        "  name=input(\"enter your name\")\n",
        "  x.append(name)\n",
        "  y+=1"
      ],
      "metadata": {
        "colab": {
          "base_uri": "https://localhost:8080/"
        },
        "id": "NXCp7biv5N-f",
        "outputId": "2c3398e7-5e99-47ac-8d7c-a7784dcd8cb7"
      },
      "execution_count": null,
      "outputs": [
        {
          "name": "stdout",
          "output_type": "stream",
          "text": [
            "enter your name5\n",
            "enter your name4456\n",
            "enter your name4456\n"
          ]
        }
      ]
    },
    {
      "cell_type": "code",
      "source": [
        "66656"
      ],
      "metadata": {
        "id": "g94I4Vdj6bf9"
      },
      "execution_count": null,
      "outputs": []
    },
    {
      "cell_type": "code",
      "source": [
        "X=[123,23455,2345,2345,234,2345,345,23456,12334,9876,87556]\n",
        "u=x.copy()\n",
        "u\n"
      ],
      "metadata": {
        "colab": {
          "base_uri": "https://localhost:8080/"
        },
        "id": "9lXyZPZv9I7d",
        "outputId": "e9ca6904-6a1c-4f28-f20c-4fa52eb03ddf"
      },
      "execution_count": 10,
      "outputs": [
        {
          "output_type": "execute_result",
          "data": {
            "text/plain": [
              "[3, 6, 9, 12, 69, '5', '65', '56', '2', '5', '23']"
            ]
          },
          "metadata": {},
          "execution_count": 10
        }
      ]
    },
    {
      "cell_type": "code",
      "source": [
        "x=[\"Ann\",\"Marty\",\"Dev\",\"Aysha\"]\n",
        "y=['A','B','C']\n",
        "x.extend(y)\n",
        "x"
      ],
      "metadata": {
        "colab": {
          "base_uri": "https://localhost:8080/"
        },
        "id": "dhGJQ2-j-_Xa",
        "outputId": "06717548-2c94-4c8e-8232-685406abc1b4"
      },
      "execution_count": 11,
      "outputs": [
        {
          "output_type": "execute_result",
          "data": {
            "text/plain": [
              "['Ann', 'Marty', 'Dev', 'Aysha', 'A', 'B', 'C']"
            ]
          },
          "metadata": {},
          "execution_count": 11
        }
      ]
    },
    {
      "cell_type": "code",
      "source": [
        "x=[243,235,23452,234523,234523,342523,34346,5356]\n",
        "x.count(8)"
      ],
      "metadata": {
        "colab": {
          "base_uri": "https://localhost:8080/"
        },
        "id": "bQXDC0stAb58",
        "outputId": "374a4bd4-8a36-444c-92db-c15f440aef50"
      },
      "execution_count": 13,
      "outputs": [
        {
          "output_type": "execute_result",
          "data": {
            "text/plain": [
              "0"
            ]
          },
          "metadata": {},
          "execution_count": 13
        }
      ]
    },
    {
      "cell_type": "code",
      "source": [
        "x=[\"Jovin\",\"mary\",\"pranav\",\"Abraham\"]\n",
        "x.insert(2,\"joji\")\n",
        "x"
      ],
      "metadata": {
        "id": "E_XTXaWbBibJ",
        "outputId": "fe2c8e1e-940e-4cfa-a964-2583d6d44a1e",
        "colab": {
          "base_uri": "https://localhost:8080/"
        }
      },
      "execution_count": 17,
      "outputs": [
        {
          "output_type": "execute_result",
          "data": {
            "text/plain": [
              "['Jovin', 'mary', 'joji', 'pranav', 'Abraham']"
            ]
          },
          "metadata": {},
          "execution_count": 17
        }
      ]
    },
    {
      "cell_type": "code",
      "source": [
        "x=[\"Jovin\",\"mary\",\"pranav\",\"Abraham\"]\n",
        "x.remove(\"Jovin\")\n",
        "x"
      ],
      "metadata": {
        "id": "qcsymHZfCMg5",
        "outputId": "a5060d1f-b3ef-49a4-c526-d1c7f35b7d76",
        "colab": {
          "base_uri": "https://localhost:8080/"
        }
      },
      "execution_count": 18,
      "outputs": [
        {
          "output_type": "execute_result",
          "data": {
            "text/plain": [
              "['mary', 'pranav', 'Abraham']"
            ]
          },
          "metadata": {},
          "execution_count": 18
        }
      ]
    }
  ]
}